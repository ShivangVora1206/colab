{
  "nbformat": 4,
  "nbformat_minor": 0,
  "metadata": {
    "colab": {
      "provenance": []
    },
    "kernelspec": {
      "name": "python3",
      "display_name": "Python 3"
    },
    "language_info": {
      "name": "python"
    }
  },
  "cells": [
    {
      "cell_type": "code",
      "execution_count": 1,
      "metadata": {
        "colab": {
          "base_uri": "https://localhost:8080/"
        },
        "id": "r-9UkqFVtqa0",
        "outputId": "b92fd479-2daf-4f32-93be-6abe75a71078"
      },
      "outputs": [
        {
          "output_type": "stream",
          "name": "stdout",
          "text": [
            "[54, 66, 78, 28]\n",
            "[117, 147, 177, 64]\n",
            "[180, 228, 276, 100]\n"
          ]
        }
      ],
      "source": [
        "A = [[1, 2, 3],\n",
        "     [4, 5, 6],\n",
        "     [7, 8, 9]]\n",
        "\n",
        "B = [[1, 3, 5, 2],\n",
        "     [7, 9, 11, 4],\n",
        "     [13, 15, 17, 6]]\n",
        "\n",
        "x = len(A)\n",
        "y = len(B[0])\n",
        "\n",
        "out = [[0]*y for _ in range(x)]\n",
        "\n",
        "for i in range(len(A)):\n",
        "  for j in range(len(B[0])):\n",
        "    for k in range(len(B)):\n",
        "      out[i][j] += A[i][k] * B[k][j]\n",
        "for n in out:\n",
        "  print(n) "
      ]
    },
    {
      "cell_type": "code",
      "source": [
        "import numpy as np\n",
        "from sklearn.linear_model import LinearRegression\n",
        "from sklearn.ensemble import RandomForestRegressor\n",
        "import pandas as pd\n",
        "\n",
        "data_train = pd.read_csv(\"/content/sample_data/california_housing_train.csv\")\n",
        "data_test = pd.read_csv(\"/content/sample_data/california_housing_test.csv\")\n",
        "\n",
        "print(data_train.head())"
      ],
      "metadata": {
        "colab": {
          "base_uri": "https://localhost:8080/"
        },
        "id": "kw1RdQqd2dpb",
        "outputId": "f8800205-b892-48ae-dcea-2a1290487b08"
      },
      "execution_count": 31,
      "outputs": [
        {
          "output_type": "stream",
          "name": "stdout",
          "text": [
            "   longitude  latitude  housing_median_age  total_rooms  total_bedrooms  \\\n",
            "0    -114.31     34.19                15.0       5612.0          1283.0   \n",
            "1    -114.47     34.40                19.0       7650.0          1901.0   \n",
            "2    -114.56     33.69                17.0        720.0           174.0   \n",
            "3    -114.57     33.64                14.0       1501.0           337.0   \n",
            "4    -114.57     33.57                20.0       1454.0           326.0   \n",
            "\n",
            "   population  households  median_income  median_house_value  \n",
            "0      1015.0       472.0         1.4936             66900.0  \n",
            "1      1129.0       463.0         1.8200             80100.0  \n",
            "2       333.0       117.0         1.6509             85700.0  \n",
            "3       515.0       226.0         3.1917             73400.0  \n",
            "4       624.0       262.0         1.9250             65500.0  \n"
          ]
        }
      ]
    },
    {
      "cell_type": "code",
      "source": [
        "x = np.array(data_train[\"total_rooms\"]).reshape((-1,1))\n",
        "y = data_train[\"median_house_value\"]"
      ],
      "metadata": {
        "id": "Og067An753N-"
      },
      "execution_count": 32,
      "outputs": []
    },
    {
      "cell_type": "code",
      "source": [
        "\n",
        "# model = LinearRegression()\n",
        "model = RandomForestRegressor()\n",
        "model.fit(x, y)\n",
        "y_pred = model.predict([[data_test[\"total_rooms\"][0]]])\n",
        "print(y_pred)"
      ],
      "metadata": {
        "colab": {
          "base_uri": "https://localhost:8080/"
        },
        "id": "XWjqRQgo57f0",
        "outputId": "7c0d9774-1a7d-4ba3-8299-a8958de5e488"
      },
      "execution_count": 33,
      "outputs": [
        {
          "output_type": "stream",
          "name": "stdout",
          "text": [
            "[175473.4452381]\n"
          ]
        }
      ]
    }
  ]
}