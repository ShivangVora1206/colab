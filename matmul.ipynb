{
  "nbformat": 4,
  "nbformat_minor": 0,
  "metadata": {
    "colab": {
      "provenance": []
    },
    "kernelspec": {
      "name": "python3",
      "display_name": "Python 3"
    },
    "language_info": {
      "name": "python"
    }
  },
  "cells": [
    {
      "cell_type": "code",
      "execution_count": null,
      "metadata": {
        "colab": {
          "base_uri": "https://localhost:8080/"
        },
        "id": "1EIoHNfW7e7y",
        "outputId": "972d18c9-952e-4879-8fc2-03d121397798"
      },
      "outputs": [
        {
          "output_type": "stream",
          "name": "stdout",
          "text": [
            "[114, 160, 92, 90]\n",
            "[74, 97, 92, 59]\n",
            "[119, 157, 143, 95]\n"
          ]
        }
      ],
      "source": [
        "A = [[12, 7, 3],\n",
        "     [4, 5, 6],\n",
        "     [7, 8, 9]]\n",
        "\n",
        "B = [[5, 8, 1, 2],\n",
        "       [6, 7, 8, 9],\n",
        "     [4, 5, 8 ,1]]\n",
        "\n",
        "result = [[0,0,0,0],\n",
        "          [0,0,0,0],\n",
        "          [0,0,0,0]]\n",
        "\n",
        "for i in range(len(A)):\n",
        "  for j in range(len(B[0])):\n",
        "    for k in range(len(B)):\n",
        "      result[i][j] += A[i][k] * B[k][j]\n",
        "for r in result:\n",
        "  print(r)"
      ]
    }
  ]
}